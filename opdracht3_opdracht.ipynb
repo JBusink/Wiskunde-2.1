{
 "cells": [
  {
   "cell_type": "markdown",
   "id": "d2a87200",
   "metadata": {},
   "source": [
    "## Opdracht 1 (28 punten)"
   ]
  },
  {
   "cell_type": "markdown",
   "id": "fbcfbb37",
   "metadata": {},
   "source": [
    "In deze opdracht bekijken we het verschil tussen een *gewone* Least-Squares Solution en een *Weighted Least-Squares Solution*.  \n",
    "\n",
    "---\n",
    "\n",
    "### Ordinary Least-Squares (OLS)\n",
    "\n",
    "We nemen een model:  \n",
    "\n",
    "\\begin{equation}\n",
    "y_{\\text{fit}} = f(x_i; \\mathbf{\\theta})\n",
    "\\tag{1.1}\n",
    "\\end{equation}\n",
    "\n",
    "met parameters $\\mathbf{\\theta}$.  \n",
    "De residuen worden gedefinieerd als:  \n",
    "\n",
    "\\begin{equation}\n",
    "r_i = y_i - y_{\\text{fit}}\n",
    "\\tag{1.2}\n",
    "\\end{equation}\n",
    "\n",
    "De kostfunctie $Q(\\mathbf{\\theta})$ is dan:  \n",
    "\n",
    "\\begin{equation}\n",
    "Q(\\mathbf{\\theta}) = \\sum_{i=1}^N W_i r_i^2\n",
    "\\tag{1.3}\n",
    "\\end{equation}\n",
    "\n",
    "Hierbij is $W_i$ een gewichtsfunctie die aangeeft hoe zwaar elk meetpunt meeweegt, en $r_i$ het residu van datapunt $i$.  \n",
    "\n",
    "Voor *Ordinary Least-Squares* geldt:  \n",
    "\n",
    "\\begin{equation}\n",
    "W_i = 1,\n",
    "\\tag{1.4}\n",
    "\\end{equation}\n",
    "\n",
    "dus alle datapunten tellen even zwaar mee.  \n",
    "\n",
    "In de praktijk kan de keuze van $W_i$ afhangen van het type experiment. Bij het fitten van data kiezen we de parameters $\\mathbf{\\theta}$ zo dat de kostfunctie $Q(\\mathbf{\\theta})$ minimaal wordt.  \n",
    "\n",
    "---\n"
   ]
  },
  {
   "cell_type": "markdown",
   "id": "bdfbaa19",
   "metadata": {},
   "source": [
    "### Laad rekenpakketten & plot-parameters"
   ]
  },
  {
   "cell_type": "code",
   "execution_count": 317,
   "id": "576af562",
   "metadata": {},
   "outputs": [],
   "source": [
    "import numpy as np\n",
    "import matplotlib.pyplot as plt\n",
    "import scipy as sp\n",
    "import random as rd\n",
    "\n",
    "plt.rcParams.update({\n",
    "    \"font.family\": \"Calibri\",   # Lettertype\n",
    "    \"xtick.direction\": \"in\",         # Ticks naar binnen\n",
    "    \"ytick.direction\": \"in\",\n",
    "    \"xtick.top\": True,               # Ticks aan bovenkant ook\n",
    "    \"ytick.right\": True,             # Ticks aan rechterkant ook\n",
    "    \"xtick.labelsize\": 10,           # Labelgroottes gelijk\n",
    "    \"ytick.labelsize\": 10,\n",
    "    \"axes.labelsize\": 10             # As-labels dezelfde grootte\n",
    "})"
   ]
  },
  {
   "cell_type": "markdown",
   "id": "15a2314a",
   "metadata": {},
   "source": [
    "In dit notebook gaan we aan de slag met het vinden van de beste fit voor een ijk-reeks van een Gas-Chromatografie Massa Spectrometer (GCMS).  \n",
    "We hebben een verdunningsreeks gemaakt die loopt van 500 ppm tot 100000 ppm, met concentratie $C$.  \n",
    "De GCMS-counts bij de bijbehorende concentratie willen we nu bepalen.  \n",
    "\n",
    "Als model kiezen we een standaard lineair model:  \n",
    "\n",
    "\\begin{equation}\n",
    "\\text{Counts}_{\\text{GCMS}} = a \\cdot C + b\n",
    "\\tag{1.5}\n",
    "\\end{equation}\n",
    "\n",
    "Hierbij zijn onze parameters:  \n",
    "\n",
    "\\begin{equation}\n",
    "\\mathbf{\\theta} = \\{a, b\\}\n",
    "\\tag{1.6}\n",
    "\\end{equation}\n",
    "\n",
    "Het doel is de parameters $a$ en $b$ zo te kiezen dat de lineaire fit de GCMS-data het beste beschrijft. \n",
    "\n",
    "Onze data:\n",
    "\n",
    "| Concentratie | Counts       |\n",
    "|--------------|-------------|\n",
    "| 500          | 4599.72     |\n",
    "| 1000         | 3530.88     |\n",
    "| 5000         | 58568.34    |\n",
    "| 10000        | 78305.50    |\n",
    "| 50000        | 321113.00   |\n",
    "| 100000       | 553158.68   |\n"
   ]
  },
  {
   "cell_type": "markdown",
   "id": "f542c4a7",
   "metadata": {},
   "source": [
    "<div style=\"border:2px solid orange; padding:10px; border-radius:5px; background-color:#fff4e6; color:black;\">\n",
    "\n",
    "**Opdracht 1a**<br>\n",
    "Leg in eigen woorden uit, dus geen ChatGPT, dat als ons model $f(x_i; \\mathbf{\\theta})$ meer parameters heeft, het moeilijker wordt om de kostfunctie te minimaliseren. Gebruik in je bewoording de **parameterruimte** en de kostfunctie $Q$.\n",
    "\n",
    "</div>\n"
   ]
  },
  {
   "cell_type": "markdown",
   "id": "e99eef8d",
   "metadata": {},
   "source": []
  },
  {
   "cell_type": "markdown",
   "id": "a58d4731",
   "metadata": {},
   "source": [
    "<div style=\"border:2px solid orange; padding:10px; border-radius:5px; background-color:#fff4e6; color:black;\">\n",
    "\n",
    "**Opdracht 1b**<br>\n",
    "Maak een grafiek waarbij je de $\\text{Counts}_{\\text{GCMS}}$ uitzet tegen de concentratie.  \n",
    "Gebruik hiervoor de **`plt.errorbar`** functie van `matplotlib.pyplot`.  \n",
    "Zorg tevens voor correcte as-labels en zet zowel de x- als y-as in **logschaal**.\n",
    "</div>\n"
   ]
  },
  {
   "cell_type": "code",
   "execution_count": null,
   "id": "7d36d7a0",
   "metadata": {},
   "outputs": [],
   "source": []
  },
  {
   "cell_type": "markdown",
   "id": "c3bac685",
   "metadata": {},
   "source": [
    "<div style=\"border:2px solid orange; padding:10px; border-radius:5px; background-color:#fff4e6; color:black;\">\n",
    "\n",
    "**Opdracht 1c**<br>\n",
    "Vul de volgende code aan:\n",
    "\n",
    "</div>\n"
   ]
  },
  {
   "cell_type": "code",
   "execution_count": null,
   "id": "d6d9f867",
   "metadata": {},
   "outputs": [],
   "source": [
    "def Residual(y_i, y_fit):\n",
    "\n",
    "    return r_i\n",
    "\n",
    "def Least_Squares(y_i, y_fit):\n",
    "\n",
    "    return Q\n",
    "\n",
    "def Linear_model(x, a, b):\n",
    "    \n",
    "    return CountsGCMS"
   ]
  },
  {
   "cell_type": "markdown",
   "id": "d03ba8c8",
   "metadata": {},
   "source": [
    "<div style=\"border:2px solid orange; padding:10px; border-radius:5px; background-color:#fff4e6; color:black;\">\n",
    "\n",
    "**Opdracht 1d**<br>\n",
    "Maak een grafiek van de kostfunctie $Q$ en zet deze uit tegen parameter $a$, gebruik hiervoor $b=0$.  \n",
    "Leg in twee zinnen uit hoe de grafiek geïnterpreteerd moet worden.  \n",
    "Varieer parameter $a$ van 0 tot 10 in 1001 stapjes.  \n",
    "Licht je code toe.\n",
    "\n",
    "</div>\n"
   ]
  },
  {
   "cell_type": "code",
   "execution_count": null,
   "id": "220aac9a",
   "metadata": {},
   "outputs": [],
   "source": []
  },
  {
   "cell_type": "markdown",
   "id": "0fcc4fac",
   "metadata": {},
   "source": [
    "<div style=\"border:2px solid orange; padding:10px; border-radius:5px; background-color:#fff4e6; color:black;\">\n",
    "\n",
    "**Opdracht 1e**<br>\n",
    "Gebruik de functie **`argmin`** van NumPy om het minimum van de kostfunctie te bepalen.  \n",
    "`np.argmin` geeft de index van het gevonden minimum.  \n",
    "Welke waarde van $a$ hoort daarbij? Dit is de kritische waarde van $a$, genoteerd als $a^*$.  \n",
    "Geef aan waar je deze waarde terug kunt vinden in de bovenstaande grafiek en licht je code toe.\n",
    "\n",
    "</div>\n"
   ]
  },
  {
   "cell_type": "code",
   "execution_count": null,
   "id": "d5fb55d7",
   "metadata": {},
   "outputs": [],
   "source": []
  },
  {
   "cell_type": "markdown",
   "id": "c6e68b44",
   "metadata": {},
   "source": [
    "<div style=\"border:2px solid orange; padding:10px; border-radius:5px; background-color:#fff4e6; color:black;\">\n",
    "\n",
    "**Opdracht 1g**<br>\n",
    "* Maak een grafiek van de relatieve residuen `(residuals/Counts)` en zet deze uit tegen de concentratie. Gebruik hiervoor $b=0$ en $a^*$.  \n",
    "\n",
    "* Mocht $a^*$ niet gelukt zijn te bepalen, gebruik dan $a^* = 6$.  \n",
    "**Tip:** Zet je x-as in log-schaal en kijk naar de waardes van de residuen.  \n",
    "Licht je code toe.\n",
    "\n",
    "</div>\n"
   ]
  },
  {
   "cell_type": "code",
   "execution_count": null,
   "id": "0e55225d",
   "metadata": {},
   "outputs": [],
   "source": []
  },
  {
   "cell_type": "markdown",
   "id": "4a37dc7a",
   "metadata": {},
   "source": [
    "<div style=\"border:2px solid orange; padding:10px; border-radius:5px; background-color:#fff4e6; color:black;\">\n",
    "\n",
    "**Opdracht 1h**<br>\n",
    "Wat valt je op aan de residuenplot?  \n",
    "Wat zegt dit over de parameter $b$ in het model?  \n",
    "Als we zouden corrigeren voor de optimale waarde van $b$ ($b^{*}$), hoe zou deze grafiek er dan uitzien?  \n",
    "Gebruik in je toelichting de woorden *statistische-fout* en *systematische-fout*.\n",
    "\n",
    "</div>\n"
   ]
  },
  {
   "cell_type": "markdown",
   "id": "7307c36b",
   "metadata": {},
   "source": []
  },
  {
   "cell_type": "markdown",
   "id": "907e8153",
   "metadata": {},
   "source": [
    "___\n",
    "\n",
    "In werkelijkheid is $b^{*}$ dus niet gelijk aan 0, wat het vinden van het minimum van de kostfunctie $Q$ aanzienlijk ingewikkelder maakt. De `scipy`-package biedt echter de functie [`least_squares`](https://docs.scipy.org/doc/scipy/reference/generated/scipy.optimize.least_squares.html), die dit proces sterk vereenvoudigt. De exacte oplossingsmethodes zijn vaak complex, maar het doel blijft hetzelfde: het vinden van het minimum van $Q$.  \n",
    "\n",
    "Een computer doet dit iteratief: door kleine stappen te maken in $a + \\Delta a$ en $b + \\Delta b$, wordt gezocht naar het minimum van $Q$. In dit geval zijn de startwaardes $p0$ van het algoritme ingesteld op $a=1$ en $b=0$.  \n",
    "\n",
    "In de onderstaande figuren is de berekening uitgevoerd met de `least_squares`-functie van `scipy`.\n"
   ]
  },
  {
   "cell_type": "markdown",
   "id": "fa753a98",
   "metadata": {},
   "source": [
    "<figure>\n",
    "  <img src=\"https://raw.githubusercontent.com/JBusink/Wiskunde-2.1/refs/heads/main/LSQ.png\" alt=\"Opdracht 3 Least Squares\">\n",
    "  <figcaption>Figuur 1:Verloop van parameter a & b bij opeenvolgende iteraties. De kostfunctie neemt af bij toenemende iteratie.</figcaption>\n",
    "</figure>\n"
   ]
  },
  {
   "cell_type": "markdown",
   "id": "f1af7c41",
   "metadata": {},
   "source": [
    "<div style=\"border:2px solid orange; padding:10px; border-radius:5px; background-color:#fff4e6; color:black;\">\n",
    "\n",
    "**Opdracht 1i**<br>\n",
    "Hoe zou de grafiek eruit zien als we als startwaardes $p0 = [5, 20000]$ zouden kiezen?\n",
    "\n",
    "</div>\n"
   ]
  },
  {
   "cell_type": "code",
   "execution_count": null,
   "id": "4b2f9288",
   "metadata": {},
   "outputs": [],
   "source": []
  },
  {
   "cell_type": "markdown",
   "id": "33fa94ed",
   "metadata": {},
   "source": [
    "In de vorige opdrachten hebben we de kostfunctie alleen berekend voor parameter $a$, terwijl we de parameter $b$ vastgezet hadden.  \n",
    "We kunnen de kostfunctie ook berekenen voor de volledige parameterruimte $(a,b)$, maar dit kunnen we niet goed visualiseren met een gewone lijngrafiek (2D).  \n",
    "\n",
    "Een optie is om $Q$ als oppervlak (3D) te visualiseren, maar dit ziet er vaak rommelig uit.  \n",
    "Een handig alternatief is om de kostfunctie $Q$ te tonen als een kleur-gradient, gecombineerd met contourlijnen.  \n",
    "In de onderstaande grafiek is dit toegepast.\n"
   ]
  },
  {
   "cell_type": "markdown",
   "id": "cb209435",
   "metadata": {},
   "source": [
    "<figure>\n",
    "  <img src=\"https://raw.githubusercontent.com/JBusink/Wiskunde-2.1/refs/heads/main/LSQ_landschap.png\" alt=\"Opdracht 3 Least Squares Landschap\">\n",
    "  <figcaption>\n",
    "    Figuur 2: De kostfunctie Q als landschap van parameter a tegen b. De kleuren geven de log10-waarde van Q weer.\n",
    "  </figcaption>\n",
    "</figure>\n"
   ]
  },
  {
   "cell_type": "markdown",
   "id": "1f816709",
   "metadata": {},
   "source": [
    "<div style=\"border:2px solid orange; padding:10px; border-radius:5px; background-color:#fff4e6; color:black;\">\n",
    "\n",
    "**Opdracht 1h**<br>\n",
    "Bepaal de optimale parameters aan de hand van bovenstaande figuur en leg uit hoe je deze hebt gevonden.\n",
    "\n",
    "</div>\n"
   ]
  },
  {
   "cell_type": "markdown",
   "id": "71812cf0",
   "metadata": {},
   "source": []
  },
  {
   "cell_type": "markdown",
   "id": "1cac1da4",
   "metadata": {},
   "source": [
    "<div style=\"border:2px solid orange; padding:10px; border-radius:5px; background-color:#fff4e6; color:black;\">\n",
    "\n",
    "**Opdracht 1i**<br>\n",
    "* Maak een grafiek van de counts tegen de concentratie en teken een lineaire lijn hier doorheen met de optimale fit-parameters van opdracht 1h.  \n",
    "* Maak een grafiek van de absolute relatieve residuals:  \n",
    " `np.abs((meting - fit)/meting)` tegen de concentratie. Wat valt je op?  \n",
    "* Bereken de kostfunctie \\(Q\\) voor de optimale parameters.\n",
    "\n",
    "</div>\n"
   ]
  },
  {
   "cell_type": "markdown",
   "id": "331d45b0",
   "metadata": {},
   "source": []
  },
  {
   "cell_type": "markdown",
   "id": "d64d0f70",
   "metadata": {},
   "source": [
    "## Opdracht 2 (20 punten)"
   ]
  },
  {
   "cell_type": "markdown",
   "id": "d71e7c23",
   "metadata": {},
   "source": [
    "In deze tweede opdracht bekijken we de **Weighted Least-Squares Solution**.  \n",
    "\n",
    "De kostfunctie is nu gedefinieerd als  \n",
    "\n",
    "\\begin{equation}\n",
    "Q(\\mathbf{a}) = \\sum_{i=1}^N W_{i}r_i^2,\n",
    "\\tag{2.1}\n",
    "\\end{equation}\n",
    "\n",
    "waarbij $W_i$ de gewichtsfactor van meetpunt $i$ is en $r_i$ het residu.  \n",
    "De meest gebruikte keuze is  \n",
    "\n",
    "\\begin{equation}\n",
    "W_i = \\frac{1}{\\sigma_i^2},\n",
    "\\tag{2.2}\n",
    "\\end{equation}\n",
    "\n",
    "zodat  \n",
    "\n",
    "\\begin{equation}\n",
    "Q(\\mathbf{a}) = \\sum_{i=1}^N \\frac{r_i^2}{\\sigma_i^2}.\n",
    "\\tag{2.3}\n",
    "\\end{equation}\n",
    "\n",
    "Hiermee wordt ieder datapunt gewogen met zijn eigen standaardfout $\\sigma_i$. Dit is nuttig omdat de meetonzekerheid per datapunt vaak varieert.  \n",
    "\n",
    "---\n",
    "\n",
    "<div style=\"border:2px solid green; padding:10px; border-radius:5px; background-color:#e6ffe6; color:black;\">\n",
    "  <strong>Voorbeeld:</strong> Stel dat ik met een liniaal (onzekerheid 1 mm) meerdere lengtes meet. Bij lengtes van 10 mm, 50 mm en 100 mm noteer ik:\n",
    "\n",
    "  | Lengte $L$ | $\\sigma_L$ | Relatieve fout $\\sigma_L/L$ |\n",
    "  |------------|------------|-----------------------------|\n",
    "  | 10 mm      | 1 mm       | 10 %                        |\n",
    "  | 50 mm      | 1 mm       | 2 %                         |\n",
    "  | 100 mm     | 1 mm       | 1 %                         |\n",
    "\n",
    "  Als ik deze waarden in een model pas, wil ik dat de verschillende onzekerheden meetellen. Daarom gebruik ik per datapunt een individueel gewicht.\n",
    "</div>\n",
    "\n",
    "---\n",
    "\n",
    "Omdat deze methode zo veel gebruikt wordt, heeft zij zelfs een eigen naam gekregen: de **$\\chi^2$-toets**  \n",
    "\n",
    "\\begin{equation}\n",
    "\\chi^2 = \\sum_{i=1}^N \\frac{r_i^2}{\\sigma_i^2}.\n",
    "\\tag{2.4}\n",
    "\\end{equation}\n",
    "\n",
    "Vaak wordt deze waarde nog genormaliseerd met het aantal **vrijheidsgraden**  \n",
    "\n",
    "\\begin{equation}\n",
    "\\Delta \\text{dof} = N - \\#\\text{parameters},\n",
    "\\tag{2.5}\n",
    "\\end{equation}\n",
    "\n",
    "zodat  \n",
    "\n",
    "\\begin{equation}\n",
    "\\tilde{\\chi}^2 = \\frac{1}{N - \\#\\text{parameters}} \\sum_{i=1}^N \\frac{r_i^2}{\\sigma_i^2}.\n",
    "\\tag{2.6}\n",
    "\\end{equation}\n",
    "\n",
    "Hierbij is $\\tilde{\\chi}^2$ de **gereduceerde $\\chi^2$**.  \n"
   ]
  },
  {
   "cell_type": "markdown",
   "id": "9541aec9",
   "metadata": {},
   "source": [
    "### Opdracht 2\n",
    "In deze volgende opdracht nemen we aan dat de fout 10\\% is van de meetwaarde zelf, nu hebben wij dus de volgende data:\n",
    "\n",
    "| Concentratie | Counts       | Counts_err  |\n",
    "|--------------|-------------|------------|\n",
    "| 500          | 4599.72     | 459.97     |\n",
    "| 1000         | 3530.88     | 353.09     |\n",
    "| 5000         | 58568.34    | 5856.83    |\n",
    "| 10000        | 78305.50    | 7830.55    |\n",
    "| 50000        | 321113.00   | 32111.30   |\n",
    "| 100000       | 553158.68   | 55315.87   |\n"
   ]
  },
  {
   "cell_type": "code",
   "execution_count": 609,
   "id": "082a418c",
   "metadata": {},
   "outputs": [],
   "source": [
    "Concentratie = np.array([500, 1000, 5000, 10000, 50000, 100000])\n",
    "Counts       = np.array([4599.72, 3530.88, 58568.34, 78305.50, 321113.00, 553158.68])\n",
    "Counts_err   = np.array([459.97, 353.09, 5856.83, 7830.55, 32111.30, 55315.87])"
   ]
  },
  {
   "cell_type": "markdown",
   "id": "9679bb2b",
   "metadata": {},
   "source": [
    "<div style=\"border:2px solid orange; padding:10px; border-radius:5px; background-color:#fff4e6; color:black;\">\n",
    "\n",
    "**Opdracht 2a**<br>\n",
    "* Maak een grafiek van de counts tegen de concentratie, neem de fout mee met `plt.errorbar()`.  \n",
    "</div>\n"
   ]
  },
  {
   "cell_type": "code",
   "execution_count": null,
   "id": "60882b91",
   "metadata": {},
   "outputs": [],
   "source": []
  },
  {
   "cell_type": "markdown",
   "id": "093910a7",
   "metadata": {},
   "source": [
    "<div style=\"border:2px solid orange; padding:10px; border-radius:5px; background-color:#fff4e6; color:black;\">\n",
    "\n",
    "**Opdracht 2b**<br>\n",
    "* Laad van de bibiliotheek `scipy.optimize` de functie `curve_fit()` in.\n",
    "* Gebruik de functie `curve_fit` om een fit te maken, leg hierbij alle input in de functie uit.\n",
    "</div>\n"
   ]
  },
  {
   "cell_type": "code",
   "execution_count": null,
   "id": "0dbd43e8",
   "metadata": {},
   "outputs": [],
   "source": [
    "\n"
   ]
  },
  {
   "cell_type": "markdown",
   "id": "455046be",
   "metadata": {},
   "source": [
    "<div style=\"border:2px solid orange; padding:10px; border-radius:5px; background-color:#fff4e6; color:black;\">\n",
    "\n",
    "**Opdracht 2c**<br>\n",
    "* Maak een grafiek van jouw nieuwe fit waarbij je de gewichten in jouw fit hebt meegenomen.\n",
    "* Maak een grafiek van de absolute relatieve residuals van jouw nieuwe fit:  \n",
    " `np.abs((meting - fit)/meting)` tegen de concentratie. Wat valt je op? Vergelijk jaar resulaten met de gewone `least_squares`-methode.\n",
    "* Welke methode levert volgens jouw de meest realistische resultaten op?\n",
    "</div>\n"
   ]
  },
  {
   "cell_type": "code",
   "execution_count": null,
   "id": "ecaafe64",
   "metadata": {},
   "outputs": [],
   "source": []
  }
 ],
 "metadata": {
  "kernelspec": {
   "display_name": "base",
   "language": "python",
   "name": "python3"
  },
  "language_info": {
   "codemirror_mode": {
    "name": "ipython",
    "version": 3
   },
   "file_extension": ".py",
   "mimetype": "text/x-python",
   "name": "python",
   "nbconvert_exporter": "python",
   "pygments_lexer": "ipython3",
   "version": "3.12.3"
  }
 },
 "nbformat": 4,
 "nbformat_minor": 5
}
