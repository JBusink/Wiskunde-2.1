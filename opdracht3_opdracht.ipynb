{
 "cells": [
  {
   "cell_type": "markdown",
   "id": "d2a87200",
   "metadata": {},
   "source": [
    "## Opdracht 1 (28 punten)"
   ]
  },
  {
   "cell_type": "markdown",
   "id": "fbcfbb37",
   "metadata": {},
   "source": [
    "In deze opdracht bekijken we het verschil tussen een *gewone* Least-Squares Solution en een *Weighted Least-Squares Solution*.  \n",
    "\n",
    "---\n",
    "\n",
    "### Ordinary Least-Squares (OLS)\n",
    "\n",
    "We nemen een model:  \n",
    "\n",
    "\\begin{equation}\n",
    "y_{\\text{fit}} = f(x_i; \\mathbf{\\theta})\n",
    "\\tag{1.1}\n",
    "\\end{equation}\n",
    "\n",
    "met parameters $\\mathbf{\\theta}$.  \n",
    "De residuen worden gedefinieerd als:  \n",
    "\n",
    "\\begin{equation}\n",
    "r_i = y_i - y_{\\text{fit}}\n",
    "\\tag{1.2}\n",
    "\\end{equation}\n",
    "\n",
    "De kostfunctie $Q(\\mathbf{\\theta})$ is dan:  \n",
    "\n",
    "\\begin{equation}\n",
    "Q(\\mathbf{\\theta}) = \\sum_{i=1}^N W_i r_i^2\n",
    "\\tag{1.3}\n",
    "\\end{equation}\n",
    "\n",
    "Hierbij is $W_i$ een gewichtsfunctie die aangeeft hoe zwaar elk meetpunt meeweegt, en $r_i$ het residu van datapunt $i$.  \n",
    "\n",
    "Voor *Ordinary Least-Squares* geldt:  \n",
    "\n",
    "\\begin{equation}\n",
    "W_i = 1,\n",
    "\\tag{1.4}\n",
    "\\end{equation}\n",
    "\n",
    "dus alle datapunten tellen even zwaar mee.  \n",
    "\n",
    "In de praktijk kan de keuze van $W_i$ afhangen van het type experiment. Bij het fitten van data kiezen we de parameters $\\mathbf{\\theta}$ zo dat de kostfunctie $Q(\\mathbf{\\theta})$ minimaal wordt.  \n",
    "\n",
    "---\n"
   ]
  },
  {
   "cell_type": "markdown",
   "id": "bdfbaa19",
   "metadata": {},
   "source": [
    "### Laad rekenpakketten & plot-parameters"
   ]
  },
  {
   "cell_type": "code",
   "execution_count": 317,
   "id": "576af562",
   "metadata": {},
   "outputs": [],
   "source": [
    "import numpy as np\n",
    "import matplotlib.pyplot as plt\n",
    "import scipy as sp\n",
    "import random as rd\n",
    "\n",
    "plt.rcParams.update({\n",
    "    \"font.family\": \"Calibri\",   # Lettertype\n",
    "    \"xtick.direction\": \"in\",         # Ticks naar binnen\n",
    "    \"ytick.direction\": \"in\",\n",
    "    \"xtick.top\": True,               # Ticks aan bovenkant ook\n",
    "    \"ytick.right\": True,             # Ticks aan rechterkant ook\n",
    "    \"xtick.labelsize\": 10,           # Labelgroottes gelijk\n",
    "    \"ytick.labelsize\": 10,\n",
    "    \"axes.labelsize\": 10             # As-labels dezelfde grootte\n",
    "})"
   ]
  },
  {
   "cell_type": "markdown",
   "id": "15a2314a",
   "metadata": {},
   "source": [
    "In dit notebook gaan we aan de slag met het vinden van de beste fit voor een ijk-reeks van een Gas-Chromatografie Massa Spectrometer (GCMS).  \n",
    "We hebben een verdunningsreeks gemaakt die loopt van 500 ppm tot 100000 ppm, met concentratie $C$.  \n",
    "De GCMS-counts bij de bijbehorende concentratie willen we nu bepalen.  \n",
    "\n",
    "Als model kiezen we een standaard lineair model:  \n",
    "\n",
    "\\begin{equation}\n",
    "\\text{Counts}_{\\text{GCMS}} = a \\cdot C + b\n",
    "\\tag{1.5}\n",
    "\\end{equation}\n",
    "\n",
    "Hierbij zijn onze parameters:  \n",
    "\n",
    "\\begin{equation}\n",
    "\\mathbf{\\theta} = \\{a, b\\}\n",
    "\\tag{1.6}\n",
    "\\end{equation}\n",
    "\n",
    "Het doel is de parameters $a$ en $b$ zo te kiezen dat de lineaire fit de GCMS-data het beste beschrijft. \n",
    "\n",
    "Onze data:\n",
    "\n",
    "| Concentratie | Counts       |\n",
    "|--------------|-------------|\n",
    "| 500          | 4599.72     |\n",
    "| 1000         | 3530.88     |\n",
    "| 5000         | 58568.34    |\n",
    "| 10000        | 78305.50    |\n",
    "| 50000        | 321113.00   |\n",
    "| 100000       | 553158.68   |\n"
   ]
  },
  {
   "cell_type": "markdown",
   "id": "f542c4a7",
   "metadata": {},
   "source": [
    "<div style=\"border:2px solid orange; padding:10px; border-radius:5px; background-color:#fff4e6; color:black;\">\n",
    "\n",
    "**Opdracht 1a**<br>\n",
    "Leg in eigen woorden uit, dus geen ChatGPT, dat als ons model $f(x_i; \\mathbf{\\theta})$ meer parameters heeft, het moeilijker wordt om de kostfunctie te minimaliseren. Gebruik in je bewoording de **parameterruimte** en de kostfunctie $Q$.\n",
    "\n",
    "</div>\n"
   ]
  },
  {
   "cell_type": "markdown",
   "id": "e99eef8d",
   "metadata": {},
   "source": []
  },
  {
   "cell_type": "markdown",
   "id": "a58d4731",
   "metadata": {},
   "source": [
    "<div style=\"border:2px solid orange; padding:10px; border-radius:5px; background-color:#fff4e6; color:black;\">\n",
    "\n",
    "**Opdracht 1b**<br>\n",
    "Maak een grafiek waarbij je de $\\text{Counts}_{\\text{GCMS}}$ uitzet tegen de concentratie.  \n",
    "Gebruik hiervoor de **`plt.errorbar`** functie van `matplotlib.pyplot`.  \n",
    "Zorg tevens voor correcte as-labels en zet zowel de x- als y-as in **logschaal**.\n",
    "</div>\n"
   ]
  },
  {
   "cell_type": "code",
   "execution_count": null,
   "id": "7d36d7a0",
   "metadata": {},
   "outputs": [],
   "source": []
  },
  {
   "cell_type": "markdown",
   "id": "c3bac685",
   "metadata": {},
   "source": [
    "<div style=\"border:2px solid orange; padding:10px; border-radius:5px; background-color:#fff4e6; color:black;\">\n",
    "\n",
    "**Opdracht 1c**<br>\n",
    "Vul de volgende code aan:\n",
    "\n",
    "</div>\n"
   ]
  },
  {
   "cell_type": "code",
   "execution_count": null,
   "id": "d6d9f867",
   "metadata": {},
   "outputs": [],
   "source": [
    "def Residual(y_i, y_fit):\n",
    "\n",
    "    return r_i\n",
    "\n",
    "def Least_Squares(y_i, y_fit):\n",
    "\n",
    "    return Q\n",
    "\n",
    "def Linear_model(x, a, b):\n",
    "    \n",
    "    return CountsGCMS"
   ]
  },
  {
   "cell_type": "markdown",
   "id": "d03ba8c8",
   "metadata": {},
   "source": [
    "<div style=\"border:2px solid orange; padding:10px; border-radius:5px; background-color:#fff4e6; color:black;\">\n",
    "\n",
    "**Opdracht 1d**<br>\n",
    "Maak een grafiek van de kostfunctie $Q$ en zet deze uit tegen parameter $a$, gebruik hiervoor $b=0$.  \n",
    "Leg in twee zinnen uit hoe de grafiek geïnterpreteerd moet worden.  \n",
    "Varieer parameter $a$ van 0 tot 10 in 1001 stapjes.  \n",
    "Licht je code toe.\n",
    "\n",
    "</div>\n"
   ]
  },
  {
   "cell_type": "code",
   "execution_count": null,
   "id": "220aac9a",
   "metadata": {},
   "outputs": [],
   "source": []
  },
  {
   "cell_type": "markdown",
   "id": "0fcc4fac",
   "metadata": {},
   "source": [
    "<div style=\"border:2px solid orange; padding:10px; border-radius:5px; background-color:#fff4e6; color:black;\">\n",
    "\n",
    "**Opdracht 1e**<br>\n",
    "Gebruik de functie **`argmin`** van NumPy om het minimum van de kostfunctie te bepalen.  \n",
    "`np.argmin` geeft de index van het gevonden minimum.  \n",
    "Welke waarde van $a$ hoort daarbij? Dit is de kritische waarde van $a$, genoteerd als $a^*$.  \n",
    "Geef aan waar je deze waarde terug kunt vinden in de bovenstaande grafiek en licht je code toe.\n",
    "\n",
    "</div>\n"
   ]
  },
  {
   "cell_type": "code",
   "execution_count": null,
   "id": "d5fb55d7",
   "metadata": {},
   "outputs": [],
   "source": []
  },
  {
   "cell_type": "markdown",
   "id": "c6e68b44",
   "metadata": {},
   "source": [
    "<div style=\"border:2px solid orange; padding:10px; border-radius:5px; background-color:#fff4e6; color:black;\">\n",
    "\n",
    "**Opdracht 1g**<br>\n",
    "* Maak een grafiek van de relatieve residuen `(residuals/Counts)` en zet deze uit tegen de concentratie. Gebruik hiervoor $b=0$ en $a^*$.  \n",
    "\n",
    "* Mocht $a^*$ niet gelukt zijn te bepalen, gebruik dan $a^* = 6$.  \n",
    "**Tip:** Zet je x-as in log-schaal en kijk naar de waardes van de residuen.  \n",
    "Licht je code toe.\n",
    "\n",
    "</div>\n"
   ]
  },
  {
   "cell_type": "code",
   "execution_count": null,
   "id": "0e55225d",
   "metadata": {},
   "outputs": [],
   "source": []
  },
  {
   "cell_type": "markdown",
   "id": "4a37dc7a",
   "metadata": {},
   "source": [
    "<div style=\"border:2px solid orange; padding:10px; border-radius:5px; background-color:#fff4e6; color:black;\">\n",
    "\n",
    "**Opdracht 1h**<br>\n",
    "Wat valt je op aan de residuenplot?  \n",
    "Wat zegt dit over de parameter $b$ in het model?  \n",
    "Als we zouden corrigeren voor de optimale waarde van $b$ ($b^{*}$), hoe zou deze grafiek er dan uitzien?  \n",
    "Gebruik in je toelichting de woorden *statistische-fout* en *systematische-fout*.\n",
    "\n",
    "</div>\n"
   ]
  },
  {
   "cell_type": "markdown",
   "id": "7307c36b",
   "metadata": {},
   "source": []
  },
  {
   "cell_type": "markdown",
   "id": "907e8153",
   "metadata": {},
   "source": [
    "___\n",
    "\n",
    "In werkelijkheid is $b^{*}$ dus niet gelijk aan 0, wat het vinden van het minimum van de kostfunctie $Q$ aanzienlijk ingewikkelder maakt. De `scipy`-package biedt echter de functie [`least_squares`](https://docs.scipy.org/doc/scipy/reference/generated/scipy.optimize.least_squares.html), die dit proces sterk vereenvoudigt. De exacte oplossingsmethodes zijn vaak complex, maar het doel blijft hetzelfde: het vinden van het minimum van $Q$.  \n",
    "\n",
    "Een computer doet dit iteratief: door kleine stappen te maken in $a + \\Delta a$ en $b + \\Delta b$, wordt gezocht naar het minimum van $Q$. In dit geval zijn de startwaardes $p0$ van het algoritme ingesteld op $a=1$ en $b=0$.  \n",
    "\n",
    "In de onderstaande figuren is de berekening uitgevoerd met de `least_squares`-functie van `scipy`.\n"
   ]
  },
  {
   "cell_type": "markdown",
   "id": "fa753a98",
   "metadata": {},
   "source": [
    "![Opdracht 3 Least Squares](Opdracht3_Least_squares.png)\n"
   ]
  },
  {
   "cell_type": "code",
   "execution_count": null,
   "id": "1c902edf",
   "metadata": {},
   "outputs": [
    {
     "ename": "FileNotFoundError",
     "evalue": "[Errno 2] No such file or directory: 'Opdracht3_Least_squares.png'",
     "output_type": "error",
     "traceback": [
      "\u001b[1;31m---------------------------------------------------------------------------\u001b[0m",
      "\u001b[1;31mFileNotFoundError\u001b[0m                         Traceback (most recent call last)",
      "Cell \u001b[1;32mIn[1], line 2\u001b[0m\n\u001b[0;32m      1\u001b[0m \u001b[38;5;28;01mfrom\u001b[39;00m \u001b[38;5;21;01mIPython\u001b[39;00m\u001b[38;5;21;01m.\u001b[39;00m\u001b[38;5;21;01mdisplay\u001b[39;00m \u001b[38;5;28;01mimport\u001b[39;00m Image\n\u001b[1;32m----> 2\u001b[0m Image(filename\u001b[38;5;241m=\u001b[39m\u001b[38;5;124m\"\u001b[39m\u001b[38;5;124mOpdracht3_Least_squares.png\u001b[39m\u001b[38;5;124m\"\u001b[39m)\n",
      "File \u001b[1;32mc:\\Users\\jbusink1\\AppData\\Local\\anaconda3\\Lib\\site-packages\\IPython\\core\\display.py:970\u001b[0m, in \u001b[0;36mImage.__init__\u001b[1;34m(self, data, url, filename, format, embed, width, height, retina, unconfined, metadata, alt)\u001b[0m\n\u001b[0;32m    968\u001b[0m \u001b[38;5;28mself\u001b[39m\u001b[38;5;241m.\u001b[39munconfined \u001b[38;5;241m=\u001b[39m unconfined\n\u001b[0;32m    969\u001b[0m \u001b[38;5;28mself\u001b[39m\u001b[38;5;241m.\u001b[39malt \u001b[38;5;241m=\u001b[39m alt\n\u001b[1;32m--> 970\u001b[0m \u001b[38;5;28msuper\u001b[39m(Image, \u001b[38;5;28mself\u001b[39m)\u001b[38;5;241m.\u001b[39m\u001b[38;5;21m__init__\u001b[39m(data\u001b[38;5;241m=\u001b[39mdata, url\u001b[38;5;241m=\u001b[39murl, filename\u001b[38;5;241m=\u001b[39mfilename,\n\u001b[0;32m    971\u001b[0m         metadata\u001b[38;5;241m=\u001b[39mmetadata)\n\u001b[0;32m    973\u001b[0m \u001b[38;5;28;01mif\u001b[39;00m \u001b[38;5;28mself\u001b[39m\u001b[38;5;241m.\u001b[39mwidth \u001b[38;5;129;01mis\u001b[39;00m \u001b[38;5;28;01mNone\u001b[39;00m \u001b[38;5;129;01mand\u001b[39;00m \u001b[38;5;28mself\u001b[39m\u001b[38;5;241m.\u001b[39mmetadata\u001b[38;5;241m.\u001b[39mget(\u001b[38;5;124m'\u001b[39m\u001b[38;5;124mwidth\u001b[39m\u001b[38;5;124m'\u001b[39m, {}):\n\u001b[0;32m    974\u001b[0m     \u001b[38;5;28mself\u001b[39m\u001b[38;5;241m.\u001b[39mwidth \u001b[38;5;241m=\u001b[39m metadata[\u001b[38;5;124m'\u001b[39m\u001b[38;5;124mwidth\u001b[39m\u001b[38;5;124m'\u001b[39m]\n",
      "File \u001b[1;32mc:\\Users\\jbusink1\\AppData\\Local\\anaconda3\\Lib\\site-packages\\IPython\\core\\display.py:327\u001b[0m, in \u001b[0;36mDisplayObject.__init__\u001b[1;34m(self, data, url, filename, metadata)\u001b[0m\n\u001b[0;32m    324\u001b[0m \u001b[38;5;28;01melif\u001b[39;00m \u001b[38;5;28mself\u001b[39m\u001b[38;5;241m.\u001b[39mmetadata \u001b[38;5;129;01mis\u001b[39;00m \u001b[38;5;28;01mNone\u001b[39;00m:\n\u001b[0;32m    325\u001b[0m     \u001b[38;5;28mself\u001b[39m\u001b[38;5;241m.\u001b[39mmetadata \u001b[38;5;241m=\u001b[39m {}\n\u001b[1;32m--> 327\u001b[0m \u001b[38;5;28mself\u001b[39m\u001b[38;5;241m.\u001b[39mreload()\n\u001b[0;32m    328\u001b[0m \u001b[38;5;28mself\u001b[39m\u001b[38;5;241m.\u001b[39m_check_data()\n",
      "File \u001b[1;32mc:\\Users\\jbusink1\\AppData\\Local\\anaconda3\\Lib\\site-packages\\IPython\\core\\display.py:1005\u001b[0m, in \u001b[0;36mImage.reload\u001b[1;34m(self)\u001b[0m\n\u001b[0;32m   1003\u001b[0m \u001b[38;5;250m\u001b[39m\u001b[38;5;124;03m\"\"\"Reload the raw data from file or URL.\"\"\"\u001b[39;00m\n\u001b[0;32m   1004\u001b[0m \u001b[38;5;28;01mif\u001b[39;00m \u001b[38;5;28mself\u001b[39m\u001b[38;5;241m.\u001b[39membed:\n\u001b[1;32m-> 1005\u001b[0m     \u001b[38;5;28msuper\u001b[39m(Image,\u001b[38;5;28mself\u001b[39m)\u001b[38;5;241m.\u001b[39mreload()\n\u001b[0;32m   1006\u001b[0m     \u001b[38;5;28;01mif\u001b[39;00m \u001b[38;5;28mself\u001b[39m\u001b[38;5;241m.\u001b[39mretina:\n\u001b[0;32m   1007\u001b[0m         \u001b[38;5;28mself\u001b[39m\u001b[38;5;241m.\u001b[39m_retina_shape()\n",
      "File \u001b[1;32mc:\\Users\\jbusink1\\AppData\\Local\\anaconda3\\Lib\\site-packages\\IPython\\core\\display.py:353\u001b[0m, in \u001b[0;36mDisplayObject.reload\u001b[1;34m(self)\u001b[0m\n\u001b[0;32m    351\u001b[0m \u001b[38;5;28;01mif\u001b[39;00m \u001b[38;5;28mself\u001b[39m\u001b[38;5;241m.\u001b[39mfilename \u001b[38;5;129;01mis\u001b[39;00m \u001b[38;5;129;01mnot\u001b[39;00m \u001b[38;5;28;01mNone\u001b[39;00m:\n\u001b[0;32m    352\u001b[0m     encoding \u001b[38;5;241m=\u001b[39m \u001b[38;5;28;01mNone\u001b[39;00m \u001b[38;5;28;01mif\u001b[39;00m \u001b[38;5;124m\"\u001b[39m\u001b[38;5;124mb\u001b[39m\u001b[38;5;124m\"\u001b[39m \u001b[38;5;129;01min\u001b[39;00m \u001b[38;5;28mself\u001b[39m\u001b[38;5;241m.\u001b[39m_read_flags \u001b[38;5;28;01melse\u001b[39;00m \u001b[38;5;124m\"\u001b[39m\u001b[38;5;124mutf-8\u001b[39m\u001b[38;5;124m\"\u001b[39m\n\u001b[1;32m--> 353\u001b[0m     \u001b[38;5;28;01mwith\u001b[39;00m \u001b[38;5;28mopen\u001b[39m(\u001b[38;5;28mself\u001b[39m\u001b[38;5;241m.\u001b[39mfilename, \u001b[38;5;28mself\u001b[39m\u001b[38;5;241m.\u001b[39m_read_flags, encoding\u001b[38;5;241m=\u001b[39mencoding) \u001b[38;5;28;01mas\u001b[39;00m f:\n\u001b[0;32m    354\u001b[0m         \u001b[38;5;28mself\u001b[39m\u001b[38;5;241m.\u001b[39mdata \u001b[38;5;241m=\u001b[39m f\u001b[38;5;241m.\u001b[39mread()\n\u001b[0;32m    355\u001b[0m \u001b[38;5;28;01melif\u001b[39;00m \u001b[38;5;28mself\u001b[39m\u001b[38;5;241m.\u001b[39murl \u001b[38;5;129;01mis\u001b[39;00m \u001b[38;5;129;01mnot\u001b[39;00m \u001b[38;5;28;01mNone\u001b[39;00m:\n\u001b[0;32m    356\u001b[0m     \u001b[38;5;66;03m# Deferred import\u001b[39;00m\n",
      "\u001b[1;31mFileNotFoundError\u001b[0m: [Errno 2] No such file or directory: 'Opdracht3_Least_squares.png'"
     ]
    }
   ],
   "source": []
  },
  {
   "cell_type": "markdown",
   "id": "f1af7c41",
   "metadata": {},
   "source": [
    "<div style=\"border:2px solid orange; padding:10px; border-radius:5px; background-color:#fff4e6; color:black;\">\n",
    "\n",
    "**Opdracht 1i**<br>\n",
    "Hoe zou de grafiek eruit zien als we als startwaardes $p0 = [5, 20000]$ zouden kiezen?\n",
    "\n",
    "</div>\n"
   ]
  },
  {
   "cell_type": "markdown",
   "id": "a0726364",
   "metadata": {},
   "source": [
    "<div style=\"border:2px solid blue; padding:10px; border-radius:5px; background-color:#e6f0ff; color:black;\">\n",
    "\n",
    "**Antwoord:**<br>\n",
    "De nieuwe startwaardes liggen dichter bij de optimale waardes van $a$ & $b$ (1 pt), dit betekent *meestal* dat de computer sneller bij het juiste antwoord komt, dus minder iteraties (1 pt).\n",
    "\n",
    "</div>\n"
   ]
  },
  {
   "cell_type": "markdown",
   "id": "33fa94ed",
   "metadata": {},
   "source": [
    "In de vorige opdrachten hebben we de kostfunctie alleen berekend voor parameter $a$, terwijl we de parameter $b$ vastgezet hadden.  \n",
    "We kunnen de kostfunctie ook berekenen voor de volledige parameterruimte $(a,b)$, maar dit kunnen we niet goed visualiseren met een gewone lijngrafiek (2D).  \n",
    "\n",
    "Een optie is om $Q$ als oppervlak (3D) te visualiseren, maar dit ziet er vaak rommelig uit.  \n",
    "Een handig alternatief is om de kostfunctie $Q$ te tonen als een kleur-gradient, gecombineerd met contourlijnen.  \n",
    "In de onderstaande grafiek is dit toegepast.\n"
   ]
  },
  {
   "cell_type": "code",
   "execution_count": 606,
   "id": "7c4dcc50",
   "metadata": {},
   "outputs": [
    {
     "data": {
      "image/png": "[encoded data removed]",
      "text/plain": [
       "<Figure size 400x300 with 2 Axes>"
      ]
     },
     "metadata": {},
     "output_type": "display_data"
    },
    {
     "data": {
      "text/plain": [
       "<Figure size 640x480 with 0 Axes>"
      ]
     },
     "metadata": {},
     "output_type": "display_data"
    }
   ],
   "source": [
    "import numpy as np\n",
    "import matplotlib.pyplot as plt\n",
    "\n",
    "# Mesh van parameters\n",
    "a_mesh = np.linspace(4, 8, 201)\n",
    "b_mesh = np.linspace(-20000, 50000, 201)\n",
    "A, B = np.meshgrid(a_mesh, b_mesh, indexing=\"ij\")\n",
    "\n",
    "# Bereken som van kwadraten\n",
    "least_squares_matrix = np.zeros_like(A)\n",
    "for ia, i in enumerate(a_mesh):\n",
    "    for jb, j in enumerate(b_mesh):\n",
    "        y_model = Linear_model(Concentratie, i, j)\n",
    "        val = Least_Squares(Counts, y_model)\n",
    "        least_squares_matrix[ia, jb] = val\n",
    "\n",
    "# Log-schaal voor beter contrast\n",
    "Z = np.log10(least_squares_matrix + 1e-12)\n",
    "\n",
    "# 2D contour plot\n",
    "fig, ax = plt.subplots(figsize=(4, 3))\n",
    "\n",
    "cont = ax.contourf(A, B, Z, levels=10, cmap=\"Blues\")   # gevuld\n",
    "cs = ax.contour(A, B, Z, levels=10, colors=\"k\", linewidths=0.5)  # contourlijnen\n",
    "ax.clabel(cs, inline=True, fontsize=8, fmt=\"%.1f\")  # labels op de lijnen\n",
    "# ax.plot(param_a,param_b, color = 'red', ls = '--', lw = 1)\n",
    "# Labels\n",
    "ax.set_xlabel(\"Parameter a\")\n",
    "ax.set_ylabel(\"Parameter b\")\n",
    "\n",
    "# Kleurbalk\n",
    "cbar = fig.colorbar(cont, ax=ax)\n",
    "cbar.set_label(r\"$\\text{Log10[Sum of squares]}$\")\n",
    "# ax.set_xlim(18,20)\n",
    "# ax.set_ylim(0,10)\n",
    "plt.tight_layout()\n",
    "plt.show()\n",
    "\n",
    "plt.savefig(\"Opdracht3_Least_squares_landscape.pdf\")"
   ]
  },
  {
   "cell_type": "markdown",
   "id": "1f816709",
   "metadata": {},
   "source": [
    "<div style=\"border:2px solid orange; padding:10px; border-radius:5px; background-color:#fff4e6; color:black;\">\n",
    "\n",
    "**Opdracht 1h**<br>\n",
    "Bepaal de optimale parameters aan de hand van bovenstaande figuur en leg uit hoe je deze hebt gevonden.\n",
    "\n",
    "</div>\n"
   ]
  },
  {
   "cell_type": "markdown",
   "id": "91a98fe0",
   "metadata": {},
   "source": [
    "<div style=\"border:2px solid blue; padding:10px; border-radius:5px; background-color:#e6f0ff; color:black;\">\n",
    "\n",
    "**Antwoord:** De optimale parameters zijn te vinden op het punt dat de kostfunctie minimaal is (marge 10%). (1 pt)<br>\n",
    "a = 5.517, b = 16782\n",
    "</div>\n"
   ]
  },
  {
   "cell_type": "markdown",
   "id": "1cac1da4",
   "metadata": {},
   "source": [
    "<div style=\"border:2px solid orange; padding:10px; border-radius:5px; background-color:#fff4e6; color:black;\">\n",
    "\n",
    "**Opdracht 1i**<br>\n",
    "* Maak een grafiek van de counts tegen de concentratie en teken een lineaire lijn hier doorheen met de optimale fit-parameters van opdracht 1h.  \n",
    "* Maak een grafiek van de absolute relatieve residuals:  \n",
    " `np.abs((meting - fit)/meting)` tegen de concentratie. Wat valt je op?  \n",
    "* Bereken de kostfunctie \\(Q\\) voor de optimale parameters.\n",
    "\n",
    "</div>\n"
   ]
  },
  {
   "cell_type": "markdown",
   "id": "1959f9ee",
   "metadata": {},
   "source": [
    "<div style=\"border:2px solid blue; padding:10px; border-radius:5px; background-color:#e6f0ff; color:black;\">\n",
    "\n",
    "**Antwoord:** \n",
    "* goede grafiek van counts tegen concentratie met fitlijn (2 punten)\n",
    "* goede grafiek van relatieve residuals (2 punten) \n",
    "* Uitleg dat relatieve residuals kleiner worden bij grotere concentratie (2 punten)\n",
    "* kostfunctie correct berekend voor optimale parameters (1 punt) Q = 1863485749.2419434\n",
    "</div>\n"
   ]
  },
  {
   "cell_type": "code",
   "execution_count": 608,
   "id": "b15c62e1",
   "metadata": {},
   "outputs": [
    {
     "data": {
      "image/png": "[encoded data removed]",
      "text/plain": [
       "<Figure size 600x300 with 2 Axes>"
      ]
     },
     "metadata": {},
     "output_type": "display_data"
    },
    {
     "name": "stdout",
     "output_type": "stream",
     "text": [
      "Q =  1863485749.2419434\n"
     ]
    }
   ],
   "source": [
    "xfit = np.linspace(np.min(Concentratie),np.max(Concentratie),11)\n",
    "fig, axes = plt.subplots(1,2, figsize=(6,3))\n",
    "axes[0].errorbar(Concentratie,Counts, color ='darkred', fmt= '.')\n",
    "axes[0].plot(xfit,Linear_model(xfit,param_a[-1],param_b[-1]), color= 'red',ls='--', lw= 2)\n",
    "axes[0].set_xscale('log')\n",
    "axes[0].set_yscale('log')\n",
    "axes[0].set_xlabel('Concentratie (%)',fontsize=15)\n",
    "axes[0].set_ylabel('Counts',fontsize=15)\n",
    "\n",
    "axes[1].errorbar(Concentratie,np.abs((Counts - Linear_model(Concentratie,param_a[-1],param_b[-1]))/Counts), color ='darkred', fmt= '.')\n",
    "axes[1].set_xscale('log')\n",
    "axes[1].set_xlabel('Concentratie (%)',fontsize=15)\n",
    "axes[1].set_ylabel('|Relatieve residuals|',fontsize=15)\n",
    "plt.tight_layout()\n",
    "plt.show()\n",
    "\n",
    "print(\"Q = \", Least_Squares(Counts,Linear_model(Concentratie,param_a[-1],param_b[-1])))\n"
   ]
  },
  {
   "cell_type": "markdown",
   "id": "d64d0f70",
   "metadata": {},
   "source": [
    "## Opdracht 2 (20 punten)"
   ]
  },
  {
   "cell_type": "markdown",
   "id": "d71e7c23",
   "metadata": {},
   "source": [
    "In deze tweede opdracht bekijken we de **Weighted Least-Squares Solution**.  \n",
    "\n",
    "De kostfunctie is nu gedefinieerd als  \n",
    "\n",
    "\\begin{equation}\n",
    "Q(\\mathbf{a}) = \\sum_{i=1}^N W_{i}r_i^2,\n",
    "\\tag{2.1}\n",
    "\\end{equation}\n",
    "\n",
    "waarbij $W_i$ de gewichtsfactor van meetpunt $i$ is en $r_i$ het residu.  \n",
    "De meest gebruikte keuze is  \n",
    "\n",
    "\\begin{equation}\n",
    "W_i = \\frac{1}{\\sigma_i^2},\n",
    "\\tag{2.2}\n",
    "\\end{equation}\n",
    "\n",
    "zodat  \n",
    "\n",
    "\\begin{equation}\n",
    "Q(\\mathbf{a}) = \\sum_{i=1}^N \\frac{r_i^2}{\\sigma_i^2}.\n",
    "\\tag{2.3}\n",
    "\\end{equation}\n",
    "\n",
    "Hiermee wordt ieder datapunt gewogen met zijn eigen standaardfout $\\sigma_i$. Dit is nuttig omdat de meetonzekerheid per datapunt vaak varieert.  \n",
    "\n",
    "---\n",
    "\n",
    "<div style=\"border:2px solid green; padding:10px; border-radius:5px; background-color:#e6ffe6; color:black;\">\n",
    "  <strong>Voorbeeld:</strong> Stel dat ik met een liniaal (onzekerheid 1 mm) meerdere lengtes meet. Bij lengtes van 10 mm, 50 mm en 100 mm noteer ik:\n",
    "\n",
    "  | Lengte $L$ | $\\sigma_L$ | Relatieve fout $\\sigma_L/L$ |\n",
    "  |------------|------------|-----------------------------|\n",
    "  | 10 mm      | 1 mm       | 10 %                        |\n",
    "  | 50 mm      | 1 mm       | 2 %                         |\n",
    "  | 100 mm     | 1 mm       | 1 %                         |\n",
    "\n",
    "  Als ik deze waarden in een model pas, wil ik dat de verschillende onzekerheden meetellen. Daarom gebruik ik per datapunt een individueel gewicht.\n",
    "</div>\n",
    "\n",
    "---\n",
    "\n",
    "Omdat deze methode zo veel gebruikt wordt, heeft zij zelfs een eigen naam gekregen: de **$\\chi^2$-toets**  \n",
    "\n",
    "\\begin{equation}\n",
    "\\chi^2 = \\sum_{i=1}^N \\frac{r_i^2}{\\sigma_i^2}.\n",
    "\\tag{2.4}\n",
    "\\end{equation}\n",
    "\n",
    "Vaak wordt deze waarde nog genormaliseerd met het aantal **vrijheidsgraden**  \n",
    "\n",
    "\\begin{equation}\n",
    "\\Delta \\text{dof} = N - \\#\\text{parameters},\n",
    "\\tag{2.5}\n",
    "\\end{equation}\n",
    "\n",
    "zodat  \n",
    "\n",
    "\\begin{equation}\n",
    "\\tilde{\\chi}^2 = \\frac{1}{N - \\#\\text{parameters}} \\sum_{i=1}^N \\frac{r_i^2}{\\sigma_i^2}.\n",
    "\\tag{2.6}\n",
    "\\end{equation}\n",
    "\n",
    "Hierbij is $\\tilde{\\chi}^2$ de **gereduceerde $\\chi^2$**.  \n"
   ]
  },
  {
   "cell_type": "markdown",
   "id": "9541aec9",
   "metadata": {},
   "source": [
    "### Opdracht 2\n",
    "In deze volgende opdracht nemen we aan dat de fout 10\\% is van de meetwaarde zelf, nu hebben wij dus de volgende data:\n",
    "\n",
    "| Concentratie | Counts       | Counts_err  |\n",
    "|--------------|-------------|------------|\n",
    "| 500          | 4599.72     | 459.97     |\n",
    "| 1000         | 3530.88     | 353.09     |\n",
    "| 5000         | 58568.34    | 5856.83    |\n",
    "| 10000        | 78305.50    | 7830.55    |\n",
    "| 50000        | 321113.00   | 32111.30   |\n",
    "| 100000       | 553158.68   | 55315.87   |\n"
   ]
  },
  {
   "cell_type": "code",
   "execution_count": 609,
   "id": "082a418c",
   "metadata": {},
   "outputs": [],
   "source": [
    "Concentratie = np.array([500, 1000, 5000, 10000, 50000, 100000])\n",
    "Counts       = np.array([4599.72, 3530.88, 58568.34, 78305.50, 321113.00, 553158.68])\n",
    "Counts_err   = np.array([459.97, 353.09, 5856.83, 7830.55, 32111.30, 55315.87])"
   ]
  },
  {
   "cell_type": "markdown",
   "id": "9679bb2b",
   "metadata": {},
   "source": [
    "<div style=\"border:2px solid orange; padding:10px; border-radius:5px; background-color:#fff4e6; color:black;\">\n",
    "\n",
    "**Opdracht 2a**<br>\n",
    "* Maak een grafiek van de counts tegen de concentratie, neem de fout mee met `plt.errorbar()`.  \n",
    "</div>\n"
   ]
  },
  {
   "cell_type": "markdown",
   "id": "8902048a",
   "metadata": {},
   "source": [
    "<div style=\"border-top:4px solid blue; padding:10px; border-radius:5px; background-color:gray; color:white;\">\n",
    "\n",
    "**Antwoord:**<br><br>\n",
    "* Correcte grafiek (3 punten)\n",
    "* Geen labels of fout vergeten (-1 punt)\n",
    "\n",
    "```python\n",
    "fig, axes = plt.subplots(1,1, figsize=(4,4))\n",
    "axes.errorbar(Concentratie, Counts, yerr=Counts_err, color='darkred', fmt='.')\n",
    "axes.set_xscale('log')\n",
    "axes.set_yscale('log')\n",
    "axes.set_xlabel('Concentratie (%)', fontsize=15)\n",
    "axes.set_ylabel('Counts', fontsize=15)\n",
    "plt.show()\n"
   ]
  },
  {
   "cell_type": "code",
   "execution_count": 589,
   "id": "b0081534",
   "metadata": {},
   "outputs": [
    {
     "data": {
      "image/png": "[encoded data removed]",
      "text/plain": [
       "<Figure size 400x400 with 1 Axes>"
      ]
     },
     "metadata": {},
     "output_type": "display_data"
    }
   ],
   "source": [
    "fig, axes = plt.subplots(1,1, figsize=(4,4))\n",
    "axes.errorbar(Concentratie,Counts,yerr=Counts_err, color ='darkred', fmt= '.')\n",
    "axes.set_xscale('log')\n",
    "axes.set_yscale('log')\n",
    "axes.set_xlabel('Concentratie (%)',fontsize=15)\n",
    "axes.set_ylabel('Counts',fontsize=15)\n",
    "plt.show()"
   ]
  },
  {
   "cell_type": "markdown",
   "id": "093910a7",
   "metadata": {},
   "source": [
    "<div style=\"border:2px solid orange; padding:10px; border-radius:5px; background-color:#fff4e6; color:black;\">\n",
    "\n",
    "**Opdracht 2b**<br>\n",
    "* Laad van de bibiliotheek `scipy.optimize` de functie `curve_fit()` in.\n",
    "* Gebruik de functie `curve_fit` om een fit te maken, leg hierbij alle input in de functie uit.\n",
    "</div>\n"
   ]
  },
  {
   "cell_type": "markdown",
   "id": "7de0b761",
   "metadata": {},
   "source": [
    "<div style=\"border-top:4px solid blue; padding:10px; border-radius:5px; background-color:gray; color:white;\">\n",
    "\n",
    "**Antwoord:**<br><br>\n",
    "* Juist inladen van package (1 punt)\n",
    "* Juist aanroepen van fit (1 punt)\n",
    "* Uitleg van verschillende onderdelen (2 punten): 1 punt voor sigma en 1 punt voor p0.\n",
    "* Linear_model is het model <br>\n",
    "* Concentratie is de x-data <br>\n",
    "* Counts is de y-data <br>\n",
    "* sigma = Counts_err is de fout op y-data <br>\n",
    "* p0 is eerste schatting <br>\n",
    "\n",
    "```python\n",
    "from scipy.optimize import curve_fit\n",
    "\n",
    "popt, pcov = curve_fit(Linear_model, Concentratie, Counts, sigma=Counts_err, p0=[1,0])\n"
   ]
  },
  {
   "cell_type": "code",
   "execution_count": 610,
   "id": "0dbd43e8",
   "metadata": {},
   "outputs": [],
   "source": [
    "from scipy.optimize import curve_fit\n",
    "popt,pcov = curve_fit(Linear_model, Concentratie,Counts,sigma=Counts_err,p0=[1,0])\n"
   ]
  },
  {
   "cell_type": "markdown",
   "id": "455046be",
   "metadata": {},
   "source": [
    "<div style=\"border:2px solid orange; padding:10px; border-radius:5px; background-color:#fff4e6; color:black;\">\n",
    "\n",
    "**Opdracht 2c**<br>\n",
    "* Maak een grafiek van jouw nieuwe fit waarbij je de gewichten in jouw fit hebt meegenomen.\n",
    "* Maak een grafiek van de absolute relatieve residuals van jouw nieuwe fit:  \n",
    " `np.abs((meting - fit)/meting)` tegen de concentratie. Wat valt je op? Vergelijk jaar resulaten met de gewone `least_squares`-methode.\n",
    "* Welke methode levert volgens jouw de meest realistische resultaten op?\n",
    "</div>\n"
   ]
  },
  {
   "cell_type": "markdown",
   "id": "4a35938c",
   "metadata": {},
   "source": [
    "<div style=\"border-top:4px solid blue; padding:10px; border-radius:5px; background-color:gray; color:white;\">\n",
    "\n",
    "* Correcte grafiek + fit (5 punten)\n",
    "* Correcte absolutie relatieve residuals (5 punten)\n",
    "* Meest realistische is de $\\chi^2$ methode (1 punt), residuals vertonen geen trend (1 punt) en zijn overal ongeveer even groot (1 punt).\n",
    "\n",
    "**Antwoord:**<br><br>\n",
    "\n",
    "```python\n",
    "fig, axes = plt.subplots(1,2, figsize=(6,3))\n",
    "\n",
    "# Grafiek van de fits\n",
    "axes[0].errorbar(Concentratie, Counts, yerr=Counts_err, color='black', fmt='.')\n",
    "axes[0].plot(Concentratie, Linear_model(Concentratie, param_a[-1], param_b[-1]), color='blue', ls='--', lw=2, label='Oude fit')\n",
    "axes[0].plot(Concentratie, Linear_model(Concentratie, *popt), color='red', ls='--', lw=2, label='Gewogen fit')\n",
    "axes[0].set_xscale('log')\n",
    "axes[0].set_yscale('log')\n",
    "axes[0].set_xlabel('Concentratie (%)', fontsize=15)\n",
    "axes[0].set_ylabel('Counts', fontsize=15)\n",
    "axes[0].legend()\n",
    "\n",
    "# Grafiek van absolute relatieve residuals\n",
    "axes[1].errorbar(Concentratie, np.abs((Counts - Linear_model(Concentratie, *popt)) / Counts), color='darkred', fmt='.', label='Gewogen fit')\n",
    "axes[1].errorbar(Concentratie, np.abs((Counts - Linear_model(Concentratie, param_a[-1], param_b[-1])) / Counts), color='blue', fmt='.', label='Oude fit')\n",
    "axes[1].set_xscale('log')\n",
    "axes[1].set_xlabel('Concentratie (%)', fontsize=15)\n",
    "axes[1].set_ylabel('|Relatieve residuals|', fontsize=15)\n",
    "axes[1].legend()\n",
    "\n",
    "plt.tight_layout()\n",
    "plt.show()\n"
   ]
  },
  {
   "cell_type": "code",
   "execution_count": 611,
   "id": "ecaafe64",
   "metadata": {},
   "outputs": [
    {
     "data": {
      "image/png": "[encoded data removed]",
      "text/plain": [
       "<Figure size 600x300 with 2 Axes>"
      ]
     },
     "metadata": {},
     "output_type": "display_data"
    }
   ],
   "source": [
    "fig, axes = plt.subplots(1,2, figsize=(6,3))\n",
    "\n",
    "axes[0].errorbar(Concentratie,Counts,yerr=Counts_err, color ='black', fmt= '.')\n",
    "axes[0].plot(Concentratie,Linear_model(Concentratie,param_a[-1],param_b[-1]), color= 'blue',ls='--', lw= 2)\n",
    "axes[0].plot(Concentratie,Linear_model(Concentratie,*popt), color= 'red',ls='--', lw= 2)\n",
    "axes[0].set_xscale('log')\n",
    "axes[0].set_yscale('log')\n",
    "axes[0].set_xlabel('Concentratie (%)',fontsize=15)\n",
    "axes[0].set_ylabel('Counts',fontsize=15)\n",
    "\n",
    "axes[1].errorbar(Concentratie,np.abs((Counts - Linear_model(Concentratie,*popt))/Counts), color ='darkred', fmt= '.')\n",
    "axes[1].errorbar(Concentratie,np.abs((Counts - Linear_model(Concentratie,param_a[-1],param_b[-1]))/Counts), color ='blue', fmt= '.')\n",
    "\n",
    "axes[1].set_xscale('log')\n",
    "axes[1].set_xlabel('Concentratie (%)',fontsize=15)\n",
    "axes[1].set_ylabel('|Relatieve residuals|',fontsize=15)\n",
    "plt.tight_layout()\n",
    "plt.show()"
   ]
  }
 ],
 "metadata": {
  "kernelspec": {
   "display_name": "base",
   "language": "python",
   "name": "python3"
  },
  "language_info": {
   "codemirror_mode": {
    "name": "ipython",
    "version": 3
   },
   "file_extension": ".py",
   "mimetype": "text/x-python",
   "name": "python",
   "nbconvert_exporter": "python",
   "pygments_lexer": "ipython3",
   "version": "3.12.3"
  }
 },
 "nbformat": 4,
 "nbformat_minor": 5
}
